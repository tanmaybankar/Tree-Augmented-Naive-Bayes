{
  "cells": [
    {
      "cell_type": "markdown",
      "metadata": {
        "id": "oNiDDLU0M-Xc"
      },
      "source": [
        "Tree Augmented Bayesian Network Classifier"
      ]
    },
    {
      "cell_type": "code",
      "execution_count": 1,
      "metadata": {
        "id": "G71eLGFuM-Xg"
      },
      "outputs": [],
      "source": [
        "from collections import deque\n",
        "from math import log\n",
        "import numpy as np\n",
        "import sys\n",
        "from sklearn.model_selection import train_test_split"
      ]
    },
    {
      "cell_type": "markdown",
      "metadata": {
        "id": "rOBNxwvnM-Xh"
      },
      "source": [
        "The function calculates the Conditional Mutual Information between attributes given the class variable"
      ]
    },
    {
      "cell_type": "code",
      "execution_count": 2,
      "metadata": {
        "id": "7Ow13-JDM-Xi"
      },
      "outputs": [],
      "source": [
        "def get_CMI(f1, f2, values1, values2, y_values, X, Y):\n",
        "    \n",
        "    Ip = 0\n",
        "    samples = len(X)\n",
        "    \n",
        "    for y in y_values:\n",
        "        for v1 in values1:\n",
        "            for v2 in values2:\n",
        "                Pxyz = 0\n",
        "                Pxy_z = 0\n",
        "                Px_z = 0\n",
        "                Py_z = 0\n",
        "                totz = 0\n",
        "                \n",
        "                for i in range(samples):\n",
        "                    if X[i][f1] == v1 and X[i][f2] == v2 and Y[i] == y:\n",
        "                        Pxyz += 1\n",
        "                    \n",
        "                    if Y[i] == y:\n",
        "                        totz+=1\n",
        "                        if X[i][f1] == v1:\n",
        "                            Px_z += 1\n",
        "                        if X[i][f2] == v2:\n",
        "                            Py_z += 1\n",
        "                \n",
        "                if totz > 0:         \n",
        "                    Pxy_z = Pxyz/totz\n",
        "                    Px_z /=totz\n",
        "                    Py_z /=totz\n",
        "                Pxyz /= samples\n",
        "                if Px_z and Py_z and Pxy_z:\n",
        "                    Ip += Pxyz*log(Pxy_z/(Px_z*Py_z))\n",
        "                \n",
        "    return Ip\n",
        "\n",
        "    \n",
        "    "
      ]
    },
    {
      "cell_type": "markdown",
      "metadata": {
        "id": "dWKCwceGM-Xi"
      },
      "source": [
        "Kruskals Algorithm to find the Maximum Spanning Tree"
      ]
    },
    {
      "cell_type": "code",
      "execution_count": 3,
      "metadata": {
        "id": "f43egYGQM-Xj"
      },
      "outputs": [],
      "source": [
        "def kruskals(edges):\n",
        "    \n",
        "    visited = set()\n",
        "    adjacency = []\n",
        "    \n",
        "    for edge in edges:\n",
        "        if edge[1] not in visited or edge[2] not in visited:\n",
        "            visited.add(edge[1])\n",
        "            visited.add(edge[2])\n",
        "            adjacency.append([edge[1], edge[2]])\n",
        "            \n",
        "    return adjacency\n",
        "    \n"
      ]
    },
    {
      "cell_type": "markdown",
      "metadata": {
        "id": "MJZGsIZWM-Xk"
      },
      "source": [
        "Training the Bayesian Network Classifier"
      ]
    },
    {
      "cell_type": "code",
      "execution_count": 4,
      "metadata": {
        "id": "eTRczazJM-Xk"
      },
      "outputs": [],
      "source": [
        "def train(X,Y):\n",
        "    features = len(X[0])\n",
        "    samples = len(X)\n",
        "    \n",
        "    attributes = [set() for _ in range(features)]\n",
        "    y_values = set(Y)\n",
        "    for feature in range(features):\n",
        "        for instance in range(samples):\n",
        "            # print(instance, feature)\n",
        "            \n",
        "            attributes[feature] = X[instance][feature]\n",
        "    \n",
        "    CMIs = []\n",
        "    \n",
        "    # Step 1 and 2: Computing Ip and making the graph (CMI) \n",
        "    for feature1 in range(features):\n",
        "        for feature2 in range(feature1+1, features):\n",
        "            CMIs.append((get_CMI(feature1, feature2, attributes[feature1], attributes[feature2], y_values, X, Y), feature1, feature2))\n",
        "        \n",
        "    CMIs.sort(reverse=True)\n",
        "    \n",
        "    # Step 3: Building the maximum spanning tree\n",
        "    max_sp_tree = kruskals(CMIs)\n",
        "    \n",
        "    # Step 4: Selecting first feature (feature = 0) as the root node\n",
        "    Bayesian_Network = [[] for feature in range(features)]\n",
        "    \n",
        "    adj = [[] for feature in range(features)]\n",
        "    for edge in max_sp_tree:\n",
        "        adj[edge[0]].append(edge[1])\n",
        "        adj[edge[1]].append(edge[0])\n",
        "        \n",
        "    # Performing BFS to build the Bayesian Network\n",
        "    q = deque()\n",
        "    visited = set()\n",
        "    q.append(0) # Pushing first feature\n",
        "    visited.add(0)\n",
        "    \n",
        "    while len(q):\n",
        "        node = q.popleft()\n",
        "        \n",
        "        for neighbour in adj[node]:\n",
        "            \n",
        "            if neighbour not in visited:\n",
        "                Bayesian_Network[node].append(neighbour)\n",
        "                q.append(neighbour)\n",
        "                visited.add(neighbour)\n",
        "                \n",
        "    # Step 5: Constructing TAN model\n",
        "    parents = [[] for feature in range(features)]\n",
        "    for feature in range(features):\n",
        "        for child in Bayesian_Network[feature]:\n",
        "            parents[child].append(feature)\n",
        "            \n",
        "    return parents\n",
        "    "
      ]
    },
    {
      "cell_type": "markdown",
      "metadata": {
        "id": "kswISjZqM-Xl"
      },
      "source": [
        "Prediction on a test point using the built Bayesian Network"
      ]
    },
    {
      "cell_type": "code",
      "execution_count": 5,
      "metadata": {
        "id": "8Rq7XO91M-Xn"
      },
      "outputs": [],
      "source": [
        "def predict(xtest, parents, X, Y):\n",
        "    y_values = set(Y)\n",
        "    probs = {}\n",
        "    features = len(X[0])\n",
        "    samples = len(X)\n",
        "    \n",
        "    for y in y_values:\n",
        "        prob = 1\n",
        "        for feature in range(features):\n",
        "            \n",
        "            count = 0\n",
        "            tot = 0\n",
        "            for i in range(samples):\n",
        "                \n",
        "                if y == Y[i]:\n",
        "                    consider = True\n",
        "                    for p in parents[feature]:\n",
        "                        if X[i][p] != xtest[p]:\n",
        "                            consider = False\n",
        "                            break\n",
        "                    if consider:\n",
        "                        tot += 1\n",
        "                        if X[i][feature] == xtest[feature]:\n",
        "                            count += 1\n",
        "            prob *= (count/tot)\n",
        "        \n",
        "        count = 0\n",
        "        for i in range(samples):\n",
        "            if y == Y[i]:\n",
        "                count += 1\n",
        "                \n",
        "        prob*=(count/samples)\n",
        "        probs[y] = prob\n",
        "    \n",
        "    # Using probability of each label to predict the actual label\n",
        "    label = Y[0]\n",
        "    max_prob = probs[Y[0]]\n",
        "    for key in probs:\n",
        "        if probs[key] > max_prob:\n",
        "            max_prob = probs[key]\n",
        "            label = key\n",
        "            \n",
        "    return label"
      ]
    },
    {
      "cell_type": "markdown",
      "metadata": {
        "id": "x8yV90uQM-Xn"
      },
      "source": [
        "Note: We can use the same predict function for Naive Bayes. The only difference is that the parents list will be an empty list of size 'number of features' because naive bayes assumes conditional independence over C, therefore, the tree will have C as the root node and all the attributes (Ai) as the children of C."
      ]
    },
    {
      "cell_type": "code",
      "execution_count": 6,
      "metadata": {
        "id": "CFt2_1_5M-Xo"
      },
      "outputs": [],
      "source": [
        "\n",
        "def generate_dataset(path):\n",
        "    fp = open(path, 'r')\n",
        "    lines = fp.readlines()\n",
        "    data = []\n",
        "    print(\"Total number of samples:\", len(lines))\n",
        "    for line in lines:\n",
        "        data.append(line[:-1].split(','))\n",
        "        \n",
        "    fp.close()\n",
        "    X, Y = [], []\n",
        "    for i in data:\n",
        "        X.append(i[:-1])\n",
        "        Y.append(i[-1])\n",
        "    \n",
        "    X_train, X_test, Y_train, Y_test = train_test_split(X, Y, train_size = 0.8, random_state=2)\n",
        "    return X_train, X_test, Y_train, Y_test\n",
        "       "
      ]
    },
    {
      "cell_type": "code",
      "execution_count": 8,
      "metadata": {
        "colab": {
          "base_uri": "https://localhost:8080/"
        },
        "id": "dKHo4b-AM-Xo",
        "outputId": "c7d795d8-c7e9-4a4e-ee51-972612597469"
      },
      "outputs": [
        {
          "output_type": "stream",
          "name": "stdout",
          "text": [
            "Total number of samples: 3196\n",
            "Training Dataset: 2556 | Testing Dataset: 640\n",
            "TAN Accuracy: 91.71875 | Naive Bayes Accuracy: 90.0\n"
          ]
        }
      ],
      "source": [
        "        \n",
        "#path = 'chess dataset/kr-vs-kp.txt'\n",
        "# path = 'heart dataset/data.txt'\n",
        "path = 'kr-vs-kp.txt'\n",
        "X_train, X_test, Y_train, Y_test = generate_dataset(path)\n",
        "print('Training Dataset:',len(X_train), '|', 'Testing Dataset:',len(X_test))\n",
        "TAN_Parents = train(X_train, Y_train)\n",
        "# print(BN_Parents)\n",
        "NB_Parents = [[] for _ in range(len(X_train[0]))] # Parents list for Naive Bayes is empty because we assume conditional independence\n",
        "accuracyBN = 0\n",
        "accuracyNB = 0\n",
        "for t in range(len(X_test)):\n",
        "    accuracyBN += predict(X_test[t], TAN_Parents, X_train, Y_train) == Y_test[t]\n",
        "    accuracyNB += predict(X_test[t], NB_Parents, X_train, Y_train) == Y_test[t]\n",
        "print('TAN Accuracy:', accuracyBN/len(X_test)*100, '|','Naive Bayes Accuracy:',accuracyNB/len(X_test)*100)\n",
        "    "
      ]
    },
    {
      "cell_type": "code",
      "source": [],
      "metadata": {
        "id": "OhpRLuYA3wSS"
      },
      "execution_count": null,
      "outputs": []
    }
  ],
  "metadata": {
    "kernelspec": {
      "display_name": "Python 3.10.5 64-bit",
      "language": "python",
      "name": "python3"
    },
    "language_info": {
      "codemirror_mode": {
        "name": "ipython",
        "version": 3
      },
      "file_extension": ".py",
      "mimetype": "text/x-python",
      "name": "python",
      "nbconvert_exporter": "python",
      "pygments_lexer": "ipython3",
      "version": "3.10.5"
    },
    "orig_nbformat": 4,
    "vscode": {
      "interpreter": {
        "hash": "b9b90f56be7a04dce6a072eb590a527d5c6deefa0e43e3cbc6ba4a95203c47c6"
      }
    },
    "colab": {
      "provenance": []
    }
  },
  "nbformat": 4,
  "nbformat_minor": 0
}